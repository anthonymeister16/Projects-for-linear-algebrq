{
  "nbformat": 4,
  "nbformat_minor": 0,
  "metadata": {
    "colab": {
      "name": "Copy of Sports Teams Rankings.ipynb",
      "provenance": [],
      "include_colab_link": true
    },
    "kernelspec": {
      "name": "python3",
      "display_name": "Python 3"
    }
  },
  "cells": [
    {
      "cell_type": "markdown",
      "metadata": {
        "id": "view-in-github",
        "colab_type": "text"
      },
      "source": [
        "<a href=\"https://colab.research.google.com/github/anthonymeister16/Projects-for-linear-algebrq/blob/master/Copy_of_Sports_Teams_Rankings.ipynb\" target=\"_parent\"><img src=\"https://colab.research.google.com/assets/colab-badge.svg\" alt=\"Open In Colab\"/></a>"
      ]
    },
    {
      "cell_type": "markdown",
      "metadata": {
        "id": "TwGBRAD9R6W4"
      },
      "source": [
        "# Load the preliminary code"
      ]
    },
    {
      "cell_type": "code",
      "metadata": {
        "id": "NaP8xyCfRrUg"
      },
      "source": [
        "c"
      ],
      "execution_count": 16,
      "outputs": []
    },
    {
      "cell_type": "code",
      "metadata": {
        "id": "CANB9fuMRyBP",
        "outputId": "1e72bfc7-c11b-42cf-c6a2-d94d5b1259d6",
        "colab": {
          "base_uri": "https://localhost:8080/"
        }
      },
      "source": [
        "lll = \" correctly!\"\n",
        "\n",
        "def rref(matrix):\n",
        "    A = np.array(matrix, dtype=np.float64)\n",
        "    \n",
        "    r = 0 #row\n",
        "    c = 0 #column\n",
        "\n",
        "    (maxr, maxc) = A.shape\n",
        "\n",
        "    prev_row_pivot = -1   # The previous row with a leading term:\n",
        "    tmp_pivot_row = -1\n",
        "    this_pivot_row = -1\n",
        "\n",
        "    for c in range(maxc):  # go through each column\n",
        "      tmp_pivot_row = -1  # reset the tmp pivot row\n",
        "      this_pivot_row = -1  # reset this pivot row\n",
        "      for r in range(maxr):  # Find the leading term in this column below prev_row_pivot\n",
        "        if ((r > prev_row_pivot) and (A[r][c] != 0.0)):\n",
        "          tmp_pivot_row = r  # find the new pivot row\n",
        "      if (tmp_pivot_row > -1):  # we found a candidate for the leading term:\n",
        "        #swap row this_pivot_row with (prev_row_pivot + 1)\n",
        "        A[[tmp_pivot_row, prev_row_pivot+1]] = A[[prev_row_pivot + 1, tmp_pivot_row]]\n",
        "        #set this_pivot_row to prev_row_pivot+1\n",
        "        this_pivot_row = prev_row_pivot + 1\n",
        "        #Now, normalize the row based on the pivot value:\n",
        "        A[ this_pivot_row ] = A[ this_pivot_row ] / A[ this_pivot_row ][c]\n",
        "        #Then, use this row to force 0's above and below the pivot entry:\n",
        "        #subtract multiples of of the this_pivot_row row from the others\n",
        "        for r_ in range(len(A)):\n",
        "            if r_ != this_pivot_row:\n",
        "                A[r_] = A[r_] - A[this_pivot_row] * A[r_][c] / A[this_pivot_row][c]\n",
        "        prev_row_pivot = this_pivot_row\n",
        "    return A   \n",
        "\n",
        "\n",
        "def is_singular(matrix):\n",
        "  singular = True\n",
        "  notsingular = False\n",
        "\n",
        "  (mr, mc) = matrix.shape\n",
        "  \n",
        "  return_value = notsingular\n",
        "  if (mc - np.linalg.linalg.matrix_rank(matrix) > 0) :\n",
        "    return_value = singular\n",
        "  return return_value\n",
        " \n",
        "    \n",
        "    \n",
        "\n",
        "print(\">> The page \", ll, lll)"
      ],
      "execution_count": 17,
      "outputs": [
        {
          "output_type": "stream",
          "text": [
            ">> The page  loaded  correctly!\n"
          ],
          "name": "stdout"
        }
      ]
    },
    {
      "cell_type": "markdown",
      "metadata": {
        "id": "dCB31bhvTulU"
      },
      "source": [
        "# Ranking Teams based on games\n",
        "\n",
        "From our packet, we saw there were five games:\n",
        "\n",
        "Home  | Away\n",
        "------|------\n",
        "Winona State 16 | Sioux Falls 15\n",
        "Winona State 34 | Augustana 20\n",
        "Sioux Falls 51  | Augustana 13\n",
        "Duluth 28       |  Augustana 17\n",
        "Winona State 17 | Duluth 37\n",
        "\n",
        "Let's encode this system into a matrix.\n",
        "\n",
        "The unknown rankings are $r_w, r_s, r_a, r_d$.\n",
        "\n",
        "The system looks like $M \\vec{x} = \\vec{b}$, or\n",
        "\n",
        "$$\n",
        "\\left( \\begin{array}{cccc} 1 & -1 & 0 & 0 \\\\ 1 & 0 & -1 & 0 \\\\ 0 & 1 & -1 & 0 \\\\ 0 & 0 & -1 & 1 \\\\ -1 & 0  & 0 & 1 \\\\ \\end{array} \\right) \\, \\left( \\begin{array}{c} r_w \\\\ r_s \\\\ r_a \\\\ r_d \\\\ \\end{array} \\right) = \\left( \\begin{array}{c} 1 \\\\ 14 \\\\ 38 \\\\ 11 \\\\ 20 \\\\ \\end{array} \\right)$$\n",
        "\n",
        "We'll solve this system using least squares \n",
        "$$M^T I M \\vec{x} = M^T I \\vec{b} $$\n",
        "\n",
        "$$ \\vec{x} = \\left( M^T I M  \\right)^{-1} M^T I \\vec{b} $$\n",
        "\n",
        "\n",
        "\n",
        "\n"
      ]
    },
    {
      "cell_type": "code",
      "metadata": {
        "id": "zZOH_e5mViMs",
        "outputId": "e9e177be-3593-4af5-ed4b-839609887d42",
        "colab": {
          "base_uri": "https://localhost:8080/"
        }
      },
      "source": [
        "# create the matrix:\n",
        "M = np.matrix([[1, -2, 4],\n",
        "               [1, -1, 1],\n",
        "               [1, 1, 1,],\n",
        "               [1, 1, 1],\n",
        "               [1, 2, 4]])\n",
        "\n",
        "\n",
        "# create the vector for the right hand side:\n",
        "pts = np.matrix([[0], [-3], [-4], [-2], [0]])\n",
        " \n",
        "#Make sure the system looks appropriate:\n",
        "print(np.c_[M,pts])"
      ],
      "execution_count": 24,
      "outputs": [
        {
          "output_type": "stream",
          "text": [
            "[[ 1 -2  4  0]\n",
            " [ 1 -1  1 -3]\n",
            " [ 1  1  1 -4]\n",
            " [ 1  1  1 -2]\n",
            " [ 1  2  4  0]]\n"
          ],
          "name": "stdout"
        }
      ]
    },
    {
      "cell_type": "code",
      "metadata": {
        "id": "s_r-ljCGWB18",
        "outputId": "35c6f8c5-06a0-4aaf-a441-5c135a029e23",
        "colab": {
          "base_uri": "https://localhost:8080/"
        }
      },
      "source": [
        "# Generate the transpose of M:\n",
        "MT = M.transpose()\n",
        "\n",
        "print(\"The Transpose of M is:\")\n",
        "print(MT)\n",
        "\n",
        "# and find MT*M and MT*pts:\n",
        "print(\"\\n\")\n",
        "print(\"MT * M is: \")\n",
        "MTM = MT * M\n",
        "print(MTM)\n",
        "\n",
        "print(\"\\n\")\n",
        "print(\"MT * pts is:\")\n",
        "MTpts = MT * pts\n",
        "print(MTpts)\n"
      ],
      "execution_count": 25,
      "outputs": [
        {
          "output_type": "stream",
          "text": [
            "The Transpose of M is:\n",
            "[[ 1  1  1  1  1]\n",
            " [-2 -1  1  1  2]\n",
            " [ 4  1  1  1  4]]\n",
            "\n",
            "\n",
            "MT * M is: \n",
            "[[ 5  1 11]\n",
            " [ 1 11  1]\n",
            " [11  1 35]]\n",
            "\n",
            "\n",
            "MT * pts is:\n",
            "[[-9]\n",
            " [-3]\n",
            " [-9]]\n"
          ],
          "name": "stdout"
        }
      ]
    },
    {
      "cell_type": "markdown",
      "metadata": {
        "id": "x38H0uPwbhpF"
      },
      "source": [
        "If $M^T M$ has an inverse, then we can use it.  But, if $M^T M$ is singular, then it doesn't have an inverse.  In this situation, we need to replace every entry in one row (say the bottom row) of $M^T M$ and $M^T \\vec{pts}$ with 1's.  (This knocks the system out of *not* having an inverse, so it will now have an inverse.)"
      ]
    },
    {
      "cell_type": "code",
      "metadata": {
        "id": "1ebWW4rZaopa",
        "outputId": "ba18af33-1e74-4ac3-d623-5734b86591b6",
        "colab": {
          "base_uri": "https://localhost:8080/"
        }
      },
      "source": [
        "#  Check if MTM is singular\n",
        "is_singular(MT*M)"
      ],
      "execution_count": 26,
      "outputs": [
        {
          "output_type": "execute_result",
          "data": {
            "text/plain": [
              "False"
            ]
          },
          "metadata": {
            "tags": []
          },
          "execution_count": 26
        }
      ]
    },
    {
      "cell_type": "code",
      "metadata": {
        "id": "Hs_ZR78AbziT",
        "outputId": "acb790f9-a6ed-4429-9143-e2f741cef554",
        "colab": {
          "base_uri": "https://localhost:8080/"
        }
      },
      "source": [
        "# If MTM is singular, then adjust one row of MTM and MT pts to be just 1's:\n",
        "\n",
        "#MTM[2] is the entire 3rd row of MTM, \n",
        "#so MTM[2] = 1 will put 1's in MTM's 3rd row.\n",
        "\n",
        "MTM[2] = 1\n",
        "MTpts[2] = 1\n",
        "\n",
        "print(\"MTM is now: \")\n",
        "print(MTM)\n",
        "\n",
        "print(\"and MTpts is now:\")\n",
        "print(MTpts)\n",
        "\n",
        "print(\"Is our modified MTM singular?\")\n",
        "is_singular(MTM)"
      ],
      "execution_count": 22,
      "outputs": [
        {
          "output_type": "stream",
          "text": [
            "MTM is now: \n",
            "[[ 2 -1 -1]\n",
            " [-1  2 -1]\n",
            " [ 1  1  1]]\n",
            "and MTpts is now:\n",
            "[[ 12]\n",
            " [-10]\n",
            " [  1]]\n",
            "Is our modified MTM singular?\n"
          ],
          "name": "stdout"
        },
        {
          "output_type": "execute_result",
          "data": {
            "text/plain": [
              "False"
            ]
          },
          "metadata": {
            "tags": []
          },
          "execution_count": 22
        }
      ]
    },
    {
      "cell_type": "code",
      "metadata": {
        "id": "48WK4ZH7WRxH",
        "outputId": "d36a7f4b-9e32-4a3c-ca92-1647735c1034",
        "colab": {
          "base_uri": "https://localhost:8080/"
        }
      },
      "source": [
        "#Find our solution using the inverse of MTM:\n",
        "\n",
        "#First, find the inverse of MTM:\n",
        "MTMI = np.linalg.inv(MTM)\n",
        "\n",
        "print(\"The inverse of MTM is:\")\n",
        "print(MTMI)\n",
        "\n",
        "#Now, use the inverse of MTM to solve for the rankings:\n",
        "\n",
        "print(\"\\n\")\n",
        "print(\"The solution are rankings:\")\n",
        "MTMI * MTpts"
      ],
      "execution_count": 27,
      "outputs": [
        {
          "output_type": "stream",
          "text": [
            "The inverse of MTM is:\n",
            "[[ 0.66666667 -0.04166667 -0.20833333]\n",
            " [-0.04166667  0.09375     0.01041667]\n",
            " [-0.20833333  0.01041667  0.09375   ]]\n",
            "\n",
            "\n",
            "The solution are rankings:\n"
          ],
          "name": "stdout"
        },
        {
          "output_type": "execute_result",
          "data": {
            "text/plain": [
              "matrix([[-4.00000000e+00],\n",
              "        [ 1.38777878e-17],\n",
              "        [ 1.00000000e+00]])"
            ]
          },
          "metadata": {
            "tags": []
          },
          "execution_count": 27
        }
      ]
    },
    {
      "cell_type": "markdown",
      "metadata": {
        "id": "YOTdLT4-R-1h"
      },
      "source": [
        "#  Game Data\n",
        "\n",
        "Find the game data for the four teams in the NFC North and NFC South.\n",
        "\n",
        "The teams are:\n",
        "\n",
        "* **NFC North:**  Green Bay Packers, Chicago Bears, Detroit Lions, Minnesota Vikings\n",
        "* **NFC South:**  Atlanta Falcons, Carolina Panthers, New Orleans Saints, Tampa Bay Buccaneers\n",
        "\n",
        "\n",
        "It may be helpful to do a google search to find the data.\n",
        "\n",
        "Be sure to create your matrix on the handout, then enter the data for the system below.\n",
        "\n"
      ]
    },
    {
      "cell_type": "code",
      "metadata": {
        "id": "RrMkbXIC5v_X",
        "outputId": "ed4d9372-dd86-4d91-f0e5-caf28e5b4bed",
        "colab": {
          "base_uri": "https://localhost:8080/"
        }
      },
      "source": [
        "# create the matrix:\n",
        "M = np.matrix([[1, 0, 0, -1, 0, 0, 0, 0],\n",
        "               [0, 1, -1, 0, 0, 0, 0, 0],\n",
        "               [0, 0, 0, 0, 0, 0, 1, -1],\n",
        "               [1, 0, -1, 0, 0, 0, 0, 0],\n",
        "               [0, 0, 0, 0, 0, -1, 0, 1],\n",
        "               [0, 1, 0, 0, -1, 0, 0, 0],\n",
        "               [1, 0, 0, 0, 0, 0, -1, 0],\n",
        "               [0, 0, -1, 0, 0, 0, 1, 0],\n",
        "               [1, 0, 0, 0, -1, 0, 0, 0],\n",
        "               [0, 1, 0, 0, 0, 0, 0, -1],\n",
        "               [0, 0, 0, 0, -1, 1, 0, 0]])\n",
        "\n",
        "\n",
        "# create the vector for the right hand side:\n",
        "pts = np.matrix([[9], [4], [11], [21], [14], [4], [7], [14], [14], [1], [7]])\n",
        " \n",
        "#Make sure the system looks appropriate:\n",
        "print(np.c_[M,pts])"
      ],
      "execution_count": 3,
      "outputs": [
        {
          "output_type": "stream",
          "text": [
            "[[ 1  0  0 -1  0  0  0  0  9]\n",
            " [ 0  1 -1  0  0  0  0  0  4]\n",
            " [ 0  0  0  0  0  0  1 -1 11]\n",
            " [ 1  0 -1  0  0  0  0  0 21]\n",
            " [ 0  0  0  0  0 -1  0  1 14]\n",
            " [ 0  1  0  0 -1  0  0  0  4]\n",
            " [ 1  0  0  0  0  0 -1  0  7]\n",
            " [ 0  0 -1  0  0  0  1  0 14]\n",
            " [ 1  0  0  0 -1  0  0  0 14]\n",
            " [ 0  1  0  0  0  0  0 -1  1]\n",
            " [ 0  0  0  0 -1  1  0  0  7]]\n"
          ],
          "name": "stdout"
        }
      ]
    },
    {
      "cell_type": "code",
      "metadata": {
        "id": "TLLB3Ebe587M",
        "outputId": "09cb9340-ece4-4254-c157-07411490b6ac",
        "colab": {
          "base_uri": "https://localhost:8080/"
        }
      },
      "source": [
        "# Generate the transpose of M:\n",
        "MT = M.transpose()\n",
        "\n",
        "print(\"The Transpose of M is:\")\n",
        "print(MT)\n",
        "\n",
        "# and find MT*M and MT*pts:\n",
        "print(\"\\n\")\n",
        "print(\"MT * M is: \")\n",
        "MTM = MT * M\n",
        "print(MTM)\n",
        "\n",
        "print(\"\\n\")\n",
        "print(\"MT * pts is:\")\n",
        "MTpts = MT * pts\n",
        "print(MTpts)\n"
      ],
      "execution_count": 11,
      "outputs": [
        {
          "output_type": "stream",
          "text": [
            "The Transpose of M is:\n",
            "[[ 1  0  0  1  0  0  1  0  1  0  0]\n",
            " [ 0  1  0  0  0  1  0  0  0  1  0]\n",
            " [ 0 -1  0 -1  0  0  0 -1  0  0  0]\n",
            " [-1  0  0  0  0  0  0  0  0  0  0]\n",
            " [ 0  0  0  0  0 -1  0  0 -1  0 -1]\n",
            " [ 0  0  0  0 -1  0  0  0  0  0  1]\n",
            " [ 0  0  1  0  0  0 -1  1  0  0  0]\n",
            " [ 0  0 -1  0  1  0  0  0  0 -1  0]]\n",
            "\n",
            "\n",
            "MT * M is: \n",
            "[[ 4  0 -1 -1 -1  0 -1  0]\n",
            " [ 0  3 -1  0 -1  0  0 -1]\n",
            " [-1 -1  3  0  0  0 -1  0]\n",
            " [-1  0  0  1  0  0  0  0]\n",
            " [-1 -1  0  0  3 -1  0  0]\n",
            " [ 0  0  0  0 -1  2  0 -1]\n",
            " [-1  0 -1  0  0  0  3 -1]\n",
            " [ 0 -1  0  0  0 -1 -1  3]]\n",
            "\n",
            "\n",
            "MT * pts is:\n",
            "[[ 51]\n",
            " [  9]\n",
            " [-39]\n",
            " [ -9]\n",
            " [-25]\n",
            " [ -7]\n",
            " [ 18]\n",
            " [  2]]\n"
          ],
          "name": "stdout"
        }
      ]
    },
    {
      "cell_type": "code",
      "metadata": {
        "id": "VXqKSDj06BVa",
        "outputId": "ea035c69-4c4c-4b9e-b1b8-7542007f6959",
        "colab": {
          "base_uri": "https://localhost:8080/"
        }
      },
      "source": [
        "#  Check if MTM is singular\n",
        "is_singular(MT*M)"
      ],
      "execution_count": 12,
      "outputs": [
        {
          "output_type": "execute_result",
          "data": {
            "text/plain": [
              "True"
            ]
          },
          "metadata": {
            "tags": []
          },
          "execution_count": 12
        }
      ]
    },
    {
      "cell_type": "code",
      "metadata": {
        "id": "5E2eXRT76MQh",
        "outputId": "893847cd-8686-4a40-d618-c99a8ee92461",
        "colab": {
          "base_uri": "https://localhost:8080/"
        }
      },
      "source": [
        "# Careful - you might not need to do this!  \n",
        "# Be sure to check whether MTM is singular on the previous line.\n",
        "\n",
        "# If MTM is singular, then adjust one row of MTM and MT pts to be just 1's:\n",
        "\n",
        "#MTM[7] is the entire 8th row of MTM, \n",
        "#so MTM[7] = 1 will put 1's in MTM's 8th row.\n",
        "\n",
        "MTM[7] = 1\n",
        "MTpts[7] = 1\n",
        "\n",
        "print(\"MTM is now: \")\n",
        "print(MTM)\n",
        "\n",
        "print(\"and MTpts is now:\")\n",
        "print(MTpts)\n",
        "\n",
        "print(\"Is our modified MTM singular?\")\n",
        "is_singular(MTM)"
      ],
      "execution_count": 13,
      "outputs": [
        {
          "output_type": "stream",
          "text": [
            "MTM is now: \n",
            "[[ 4  0 -1 -1 -1  0 -1  0]\n",
            " [ 0  3 -1  0 -1  0  0 -1]\n",
            " [-1 -1  3  0  0  0 -1  0]\n",
            " [-1  0  0  1  0  0  0  0]\n",
            " [-1 -1  0  0  3 -1  0  0]\n",
            " [ 0  0  0  0 -1  2  0 -1]\n",
            " [-1  0 -1  0  0  0  3 -1]\n",
            " [ 1  1  1  1  1  1  1  1]]\n",
            "and MTpts is now:\n",
            "[[ 51]\n",
            " [  9]\n",
            " [-39]\n",
            " [ -9]\n",
            " [-25]\n",
            " [ -7]\n",
            " [ 18]\n",
            " [  1]]\n",
            "Is our modified MTM singular?\n"
          ],
          "name": "stdout"
        },
        {
          "output_type": "execute_result",
          "data": {
            "text/plain": [
              "False"
            ]
          },
          "metadata": {
            "tags": []
          },
          "execution_count": 13
        }
      ]
    },
    {
      "cell_type": "code",
      "metadata": {
        "id": "UkDKmNba6YHi",
        "outputId": "e21b165f-a5fe-4ff5-d4fe-94b390784cf6",
        "colab": {
          "base_uri": "https://localhost:8080/"
        }
      },
      "source": [
        "#Find our solution using the inverse of MTM:\n",
        "\n",
        "#First, find the inverse of MTM:\n",
        "MTMI = np.linalg.inv(MTM)\n",
        "\n",
        "print(\"The inverse of MTM is:\")\n",
        "print(MTMI)\n",
        "\n",
        "#Now, use the inverse of MTM to solve for the rankings:\n",
        "\n",
        "print(\"\\n\")\n",
        "print(\"The solution are rankings:\")\n",
        "MTMI * MTpts"
      ],
      "execution_count": 14,
      "outputs": [
        {
          "output_type": "stream",
          "text": [
            "The inverse of MTM is:\n",
            "[[ 0.35909091  0.02727273  0.12727273  0.23409091  0.07954545 -0.02272727\n",
            "   0.12045455  0.125     ]\n",
            " [-0.12272727  0.28181818 -0.01818182 -0.24772727 -0.01136364 -0.06818182\n",
            "  -0.08863636  0.125     ]\n",
            " [ 0.07727273  0.08181818  0.38181818 -0.04772727 -0.01136364 -0.06818182\n",
            "   0.11136364  0.125     ]\n",
            " [ 0.35909091  0.02727273  0.12727273  1.23409091  0.07954545 -0.02272727\n",
            "   0.12045455  0.125     ]\n",
            " [ 0.00454545  0.06363636 -0.03636364 -0.12045455  0.35227273  0.11363636\n",
            "  -0.05227273  0.125     ]\n",
            " [-0.22272727 -0.11818182 -0.21818182 -0.34772727 -0.01136364  0.43181818\n",
            "  -0.18863636  0.125     ]\n",
            " [-0.00454545 -0.06363636  0.03636364 -0.12954545 -0.10227273 -0.11363636\n",
            "   0.30227273  0.125     ]\n",
            " [-0.45       -0.3        -0.4        -0.575      -0.375      -0.25\n",
            "  -0.325       0.125     ]]\n",
            "\n",
            "\n",
            "The solution are rankings:\n"
          ],
          "name": "stdout"
        },
        {
          "output_type": "execute_result",
          "data": {
            "text/plain": [
              "matrix([[11.95227273],\n",
              "        [-1.49318182],\n",
              "        [-6.89318182],\n",
              "        [ 2.95227273],\n",
              "        [-7.11136364],\n",
              "        [-6.79318182],\n",
              "        [ 7.86136364],\n",
              "        [ 0.525     ]])"
            ]
          },
          "metadata": {
            "tags": []
          },
          "execution_count": 14
        }
      ]
    }
  ]
}